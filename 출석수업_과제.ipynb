{
  "nbformat": 4,
  "nbformat_minor": 0,
  "metadata": {
    "colab": {
      "provenance": [],
      "authorship_tag": "ABX9TyOhjXEcryrohe3poMGSNBKf",
      "include_colab_link": true
    },
    "kernelspec": {
      "name": "python3",
      "display_name": "Python 3"
    },
    "language_info": {
      "name": "python"
    }
  },
  "cells": [
    {
      "cell_type": "markdown",
      "metadata": {
        "id": "view-in-github",
        "colab_type": "text"
      },
      "source": [
        "<a href=\"https://colab.research.google.com/github/Rootjang92/python-study/blob/main/%EC%B6%9C%EC%84%9D%EC%88%98%EC%97%85_%EA%B3%BC%EC%A0%9C.ipynb\" target=\"_parent\"><img src=\"https://colab.research.google.com/assets/colab-badge.svg\" alt=\"Open In Colab\"/></a>"
      ]
    },
    {
      "cell_type": "code",
      "execution_count": 11,
      "metadata": {
        "colab": {
          "base_uri": "https://localhost:8080/"
        },
        "id": "f8SsJ7jS079C",
        "outputId": "82c1244a-fffa-41c4-c221-df9f3f5da461"
      },
      "outputs": [
        {
          "output_type": "stream",
          "name": "stdout",
          "text": [
            "5 5\n"
          ]
        }
      ],
      "source": [
        "numbers = list(range(1, 11))\n",
        "\n",
        "def calculateCountNum(numbers):\n",
        "  countOdd = 0\n",
        "  countEven = 0\n",
        "\n",
        "  for num in numbers:\n",
        "    if (num % 2 == 0):\n",
        "      countEven += 1\n",
        "    else:\n",
        "      countOdd += 1\n",
        "  return countOdd, countEven\n",
        "\n",
        "odd, even = calculateCountNum(numbers)\n",
        "print(odd, even)"
      ]
    },
    {
      "cell_type": "code",
      "source": [
        "def count_even_odd(arr):\n",
        "    even_count = sum(1 for num in arr if num % 2 == 0)\n",
        "    odd_count = sum(1 for num in arr if num % 2 != 0)\n",
        "    return even_count, odd_count\n",
        "\n",
        "count_even_odd(list(range(1,11)))"
      ],
      "metadata": {
        "colab": {
          "base_uri": "https://localhost:8080/"
        },
        "id": "palncy2d9nJJ",
        "outputId": "836290cd-a67e-4b65-a528-ad41d9779077"
      },
      "execution_count": 14,
      "outputs": [
        {
          "output_type": "execute_result",
          "data": {
            "text/plain": [
              "(5, 5)"
            ]
          },
          "metadata": {},
          "execution_count": 14
        }
      ]
    },
    {
      "cell_type": "code",
      "source": [],
      "metadata": {
        "id": "-5NTc-G-7l_F"
      },
      "execution_count": null,
      "outputs": []
    }
  ]
}