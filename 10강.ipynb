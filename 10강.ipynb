{
  "nbformat": 4,
  "nbformat_minor": 0,
  "metadata": {
    "colab": {
      "provenance": [],
      "authorship_tag": "ABX9TyOZOQ/j9ZqIhEZaDgwI8fR2",
      "include_colab_link": true
    },
    "kernelspec": {
      "name": "python3",
      "display_name": "Python 3"
    },
    "language_info": {
      "name": "python"
    }
  },
  "cells": [
    {
      "cell_type": "markdown",
      "metadata": {
        "id": "view-in-github",
        "colab_type": "text"
      },
      "source": [
        "<a href=\"https://colab.research.google.com/github/Rootjang92/python-study/blob/main/10%EA%B0%95.ipynb\" target=\"_parent\"><img src=\"https://colab.research.google.com/assets/colab-badge.svg\" alt=\"Open In Colab\"/></a>"
      ]
    },
    {
      "cell_type": "code",
      "execution_count": 1,
      "metadata": {
        "id": "JH_W1ScrN1rn"
      },
      "outputs": [],
      "source": [
        "class Cone : \n",
        "  def __init__(self, radius = 20, height = 30):\n",
        "    if (radius > 0 and height > 0):\n",
        "      self.__r = radius\n",
        "      self.__h = height\n",
        "\n",
        "  def get_vol(self):\n",
        "    return 1/3 * 3.14 * self.__r ** 2 * self.__h\n",
        "\n",
        "  def get_surt(self):\n",
        "    return 3.14 * self.__r ** 2 + 3.14 * self.__r * self.__h\n",
        "\n",
        "  def set_radius(self, radius):\n",
        "    if (radius >= 0):\n",
        "      self.__r = radius\n",
        "\n"
      ]
    },
    {
      "cell_type": "code",
      "source": [
        "# BMI 계산 프로그램\n",
        "\n",
        "class BMI:\n",
        "  def __init__(self, name, age, height, weight):\n",
        "    self.__name = name\n",
        "    self.__age = age\n",
        "    self.__height = height\n",
        "    self.__weight = weight\n",
        "\n",
        "  def get_BMI(self):\n",
        "    return self.__weight / (self.__height / 100) ** 2\n",
        "\n",
        "  def get_status(self):\n",
        "    if self.get_BMI() >= 25:\n",
        "      return \"비만\"\n",
        "    elif self.get_BMI() >= 23 and self.get_BMI() < 25:\n",
        "      return \"과체중\"\n",
        "    elif self.get_BMI() >= 18.5 and self.get_BMI() < 23:\n",
        "      return \"정상\"\n",
        "    else:\n",
        "      return \"저체중\"\n",
        "\n",
        "  "
      ],
      "metadata": {
        "id": "5K-T7zCaQ18y"
      },
      "execution_count": 2,
      "outputs": []
    },
    {
      "cell_type": "code",
      "source": [
        "unit_cone = Cone()\n",
        "big_cone = Cone(50, 100)\n",
        "\n",
        "print(unit_cone.get_vol())\n",
        "print(unit_cone.get_surt())"
      ],
      "metadata": {
        "colab": {
          "base_uri": "https://localhost:8080/"
        },
        "id": "pI7TGErFTa2Q",
        "outputId": "24b36afd-56e0-4048-b56e-054fdd946f4c"
      },
      "execution_count": 10,
      "outputs": [
        {
          "output_type": "stream",
          "name": "stdout",
          "text": [
            "12559.999999999998\n",
            "3140.0\n"
          ]
        }
      ]
    },
    {
      "cell_type": "code",
      "source": [
        "person1 = BMI(\"test1\", 26, 176, 62)\n",
        "\n",
        "print(person1.get_BMI(), person1.get_status())"
      ],
      "metadata": {
        "colab": {
          "base_uri": "https://localhost:8080/"
        },
        "id": "o0NWiGG3T4Nc",
        "outputId": "d51f7d60-80e6-4923-8192-ce7092192c3c"
      },
      "execution_count": 11,
      "outputs": [
        {
          "output_type": "stream",
          "name": "stdout",
          "text": [
            "20.015495867768596 정상\n"
          ]
        }
      ]
    }
  ]
}