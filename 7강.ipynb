{
  "nbformat": 4,
  "nbformat_minor": 0,
  "metadata": {
    "colab": {
      "provenance": [],
      "authorship_tag": "ABX9TyOm2UOFLlhEm+LAX3cHj1Or",
      "include_colab_link": true
    },
    "kernelspec": {
      "name": "python3",
      "display_name": "Python 3"
    },
    "language_info": {
      "name": "python"
    }
  },
  "cells": [
    {
      "cell_type": "markdown",
      "metadata": {
        "id": "view-in-github",
        "colab_type": "text"
      },
      "source": [
        "<a href=\"https://colab.research.google.com/github/Rootjang92/python-study/blob/main/7%EA%B0%95.ipynb\" target=\"_parent\"><img src=\"https://colab.research.google.com/assets/colab-badge.svg\" alt=\"Open In Colab\"/></a>"
      ]
    },
    {
      "cell_type": "code",
      "execution_count": 4,
      "metadata": {
        "colab": {
          "base_uri": "https://localhost:8080/"
        },
        "id": "7HfcAO1jOrpr",
        "outputId": "3a2615bc-5254-44d4-8ff3-f2957944d46c"
      },
      "outputs": [
        {
          "output_type": "stream",
          "name": "stdout",
          "text": [
            "어디까지 더할까요? 5\n",
            "15\n"
          ]
        }
      ],
      "source": [
        "num = int(input(\"어디까지 더할까요? \"))\n",
        "sum = 0\n",
        "i = 1\n",
        "\n",
        "while i <= num : \n",
        "    sum = sum + i\n",
        "    i = i + 1\n",
        "\n",
        "print(sum)"
      ]
    },
    {
      "cell_type": "code",
      "source": [
        "base = int(input(\"출력할 단을 입력하세요: \"))\n",
        "\n",
        "i = 1\n",
        "while i <= 9:\n",
        "    print(base, \"X\", i, \"=\", base * i)\n",
        "    i = i + 1"
      ],
      "metadata": {
        "colab": {
          "base_uri": "https://localhost:8080/"
        },
        "id": "lEeltF0kQr5F",
        "outputId": "7cec1975-49e5-4926-9d04-07f564139bf5"
      },
      "execution_count": 5,
      "outputs": [
        {
          "output_type": "stream",
          "name": "stdout",
          "text": [
            "출력할 단을 입력하세요: 9\n",
            "9 X 1 = 9\n",
            "9 X 2 = 18\n",
            "9 X 3 = 27\n",
            "9 X 4 = 36\n",
            "9 X 5 = 45\n",
            "9 X 6 = 54\n",
            "9 X 7 = 63\n",
            "9 X 8 = 72\n",
            "9 X 9 = 81\n"
          ]
        }
      ]
    },
    {
      "cell_type": "code",
      "source": [
        "hei_list = [1,4,15,26,31]\n",
        "\n",
        "for hei in hei_list :\n",
        "    print(hei)"
      ],
      "metadata": {
        "colab": {
          "base_uri": "https://localhost:8080/"
        },
        "id": "bwztc-8BRzmM",
        "outputId": "81844b18-4e21-4b15-8809-c7dedaced32c"
      },
      "execution_count": 6,
      "outputs": [
        {
          "output_type": "stream",
          "name": "stdout",
          "text": [
            "1\n",
            "4\n",
            "15\n",
            "26\n",
            "31\n"
          ]
        }
      ]
    },
    {
      "cell_type": "code",
      "source": [
        "rad = 10\n",
        "hei_list = [1, 5, 14, 26, 31]\n",
        "\n",
        "for hei in hei_list : \n",
        "  vol = 1/3 * 3.14 * rad ** 2 * hei\n",
        "  surf = 3.14 * rad ** 2 + 3.14 * rad * hei\n",
        "  print(\"원뿔의 부피는\", vol, \"입니다.\")\n",
        "  print(\"원뿔의 겉넓이는\", surf, \"입니다.\")"
      ],
      "metadata": {
        "colab": {
          "base_uri": "https://localhost:8080/"
        },
        "id": "1u2lbpOsUkgQ",
        "outputId": "cc44ced8-8abd-4fec-bdb2-fe2e192f5316"
      },
      "execution_count": 7,
      "outputs": [
        {
          "output_type": "stream",
          "name": "stdout",
          "text": [
            "원뿔의 부피는 104.66666666666666 입니다.\n",
            "원뿔의 겉넓이는 345.4 입니다.\n",
            "원뿔의 부피는 523.3333333333333 입니다.\n",
            "원뿔의 겉넓이는 471.0 입니다.\n",
            "원뿔의 부피는 1465.3333333333333 입니다.\n",
            "원뿔의 겉넓이는 753.6 입니다.\n",
            "원뿔의 부피는 2721.333333333333 입니다.\n",
            "원뿔의 겉넓이는 1130.4 입니다.\n",
            "원뿔의 부피는 3244.6666666666665 입니다.\n",
            "원뿔의 겉넓이는 1287.4 입니다.\n"
          ]
        }
      ]
    },
    {
      "cell_type": "code",
      "source": [
        "rad_list = range(10, 31, 10)\n",
        "hei_list = [1, 5, 14]\n",
        "\n",
        "for rad, hei in zip(rad_list, hei_list) : \n",
        "    vol = 1/3 * 3.14 * rad ** 2 * hei\n",
        "    surf = 3.14 * rad ** 2 + 3.14 * rad * hei\n",
        "    print(\"원뿔의 부피는\", vol, \"입니다.\")\n",
        "    print(\"원뿔의 겉넓이는\", surf, \"입니다.\")"
      ],
      "metadata": {
        "colab": {
          "base_uri": "https://localhost:8080/"
        },
        "id": "dDkOZZH8WjY4",
        "outputId": "2dbf7ace-cf8e-47af-afaf-28a4cee51ce7"
      },
      "execution_count": 8,
      "outputs": [
        {
          "output_type": "stream",
          "name": "stdout",
          "text": [
            "원뿔의 부피는 104.66666666666666 입니다.\n",
            "원뿔의 겉넓이는 345.4 입니다.\n",
            "원뿔의 부피는 2093.333333333333 입니다.\n",
            "원뿔의 겉넓이는 1570.0 입니다.\n",
            "원뿔의 부피는 13188.0 입니다.\n",
            "원뿔의 겉넓이는 4144.8 입니다.\n"
          ]
        }
      ]
    },
    {
      "cell_type": "code",
      "source": [
        "print(format(\"구구단표\", \">20s\"))\n",
        "\n",
        "print(\" |\", end = \"\")\n",
        "for j in range(1, 10) : \n",
        "  print(\"  \", j, end = \"\")\n",
        "print()\n",
        "print(\"--------------------------------------\")\n",
        "\n",
        "for i in range(1, 10, 1) : \n",
        "  print(i, \" |\", end = \"\")\n",
        "  for j in range(1, 10, ) :\n",
        "    print(format(i * j, \">4d\"), end = \"\")\n",
        "  print()"
      ],
      "metadata": {
        "colab": {
          "base_uri": "https://localhost:8080/"
        },
        "id": "V0LxSk0xXfmQ",
        "outputId": "b6aa147f-d16a-481c-f0bf-5f411cb6851b"
      },
      "execution_count": 23,
      "outputs": [
        {
          "output_type": "stream",
          "name": "stdout",
          "text": [
            "                구구단표\n",
            " |   1   2   3   4   5   6   7   8   9\n",
            "--------------------------------------\n",
            "1  |   1   2   3   4   5   6   7   8   9\n",
            "2  |   2   4   6   8  10  12  14  16  18\n",
            "3  |   3   6   9  12  15  18  21  24  27\n",
            "4  |   4   8  12  16  20  24  28  32  36\n",
            "5  |   5  10  15  20  25  30  35  40  45\n",
            "6  |   6  12  18  24  30  36  42  48  54\n",
            "7  |   7  14  21  28  35  42  49  56  63\n",
            "8  |   8  16  24  32  40  48  56  64  72\n",
            "9  |   9  18  27  36  45  54  63  72  81\n"
          ]
        }
      ]
    }
  ]
}