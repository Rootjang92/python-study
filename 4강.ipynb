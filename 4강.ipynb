{
  "nbformat": 4,
  "nbformat_minor": 0,
  "metadata": {
    "colab": {
      "provenance": [],
      "authorship_tag": "ABX9TyNwyw3LIGBMfOazUcc9d1Xs",
      "include_colab_link": true
    },
    "kernelspec": {
      "name": "python3",
      "display_name": "Python 3"
    },
    "language_info": {
      "name": "python"
    }
  },
  "cells": [
    {
      "cell_type": "markdown",
      "metadata": {
        "id": "view-in-github",
        "colab_type": "text"
      },
      "source": [
        "<a href=\"https://colab.research.google.com/github/Rootjang92/python-study/blob/main/4%EA%B0%95.ipynb\" target=\"_parent\"><img src=\"https://colab.research.google.com/assets/colab-badge.svg\" alt=\"Open In Colab\"/></a>"
      ]
    },
    {
      "cell_type": "markdown",
      "source": [
        "4강 1절"
      ],
      "metadata": {
        "id": "FUx9_JgO0xT_"
      }
    },
    {
      "cell_type": "code",
      "execution_count": 1,
      "metadata": {
        "colab": {
          "base_uri": "https://localhost:8080/",
          "height": 35
        },
        "id": "8ZGA0YYoz5f4",
        "outputId": "40b1fedd-2831-4aa4-c0a1-3e0d44363f5a"
      },
      "outputs": [
        {
          "output_type": "execute_result",
          "data": {
            "text/plain": [
              "'Hello World!'"
            ],
            "application/vnd.google.colaboratory.intrinsic+json": {
              "type": "string"
            }
          },
          "metadata": {},
          "execution_count": 1
        }
      ],
      "source": [
        "\"Hello World!\""
      ]
    },
    {
      "cell_type": "code",
      "source": [
        "\"computer\" * 2"
      ],
      "metadata": {
        "colab": {
          "base_uri": "https://localhost:8080/",
          "height": 35
        },
        "id": "_xX3SwdK05MX",
        "outputId": "e60eb27c-af70-4f20-e4f5-fa0fc34cd6d1"
      },
      "execution_count": 5,
      "outputs": [
        {
          "output_type": "execute_result",
          "data": {
            "text/plain": [
              "'computercomputer'"
            ],
            "application/vnd.google.colaboratory.intrinsic+json": {
              "type": "string"
            }
          },
          "metadata": {},
          "execution_count": 5
        }
      ]
    },
    {
      "cell_type": "code",
      "source": [
        "print(2 * 7)\n",
        "# 학점계산\n",
        "print((4.5 * 2 + 4.0 * 3) / (130 - 66));"
      ],
      "metadata": {
        "colab": {
          "base_uri": "https://localhost:8080/"
        },
        "id": "ebZxudrA1rot",
        "outputId": "68e82a6d-6107-4f24-b298-8b0d96aabf3c"
      },
      "execution_count": 7,
      "outputs": [
        {
          "output_type": "stream",
          "name": "stdout",
          "text": [
            "14\n",
            "0.328125\n"
          ]
        }
      ]
    },
    {
      "cell_type": "markdown",
      "source": [
        "4강 2절"
      ],
      "metadata": {
        "id": "0BrldFi40zcs"
      }
    },
    {
      "cell_type": "code",
      "source": [
        "# 반지름과 높이 값 할당\n",
        "rad = 20\n",
        "hei = 30\n",
        "print(1 / 3 * 3.14 * rad ** 2 * hei)\n",
        "print(3.14 * rad ** 2 + 3.14 * rad * hei)"
      ],
      "metadata": {
        "colab": {
          "base_uri": "https://localhost:8080/"
        },
        "id": "JrjUo2RG5any",
        "outputId": "aed1ecfd-3473-472c-f22c-b1d5761eae93"
      },
      "execution_count": 8,
      "outputs": [
        {
          "output_type": "stream",
          "name": "stdout",
          "text": [
            "12559.999999999998\n",
            "3140.0\n"
          ]
        }
      ]
    },
    {
      "cell_type": "markdown",
      "source": [
        "4강 3절"
      ],
      "metadata": {
        "id": "JqR5xs-i7o6T"
      }
    },
    {
      "cell_type": "code",
      "source": [
        "5 // 2\n",
        "# 소수점 버림"
      ],
      "metadata": {
        "colab": {
          "base_uri": "https://localhost:8080/"
        },
        "id": "Zcnx9SKS7qvJ",
        "outputId": "75444891-1585-43bb-f15c-6fab337c4366"
      },
      "execution_count": 11,
      "outputs": [
        {
          "output_type": "execute_result",
          "data": {
            "text/plain": [
              "2"
            ]
          },
          "metadata": {},
          "execution_count": 11
        }
      ]
    },
    {
      "cell_type": "code",
      "source": [
        "25 % 7\n",
        "# 나머지"
      ],
      "metadata": {
        "colab": {
          "base_uri": "https://localhost:8080/"
        },
        "id": "tqI2qCLz74pO",
        "outputId": "68b1881c-d5c9-4477-94c5-5e0a62c755b2"
      },
      "execution_count": 13,
      "outputs": [
        {
          "output_type": "execute_result",
          "data": {
            "text/plain": [
              "4"
            ]
          },
          "metadata": {},
          "execution_count": 13
        }
      ]
    },
    {
      "cell_type": "code",
      "source": [
        "max(2,3,4)\n",
        "min(2,3,4)"
      ],
      "metadata": {
        "colab": {
          "base_uri": "https://localhost:8080/"
        },
        "id": "z6h-OGMD77lG",
        "outputId": "4de55d6a-c2ae-4cb2-ff5f-b941ea877325"
      },
      "execution_count": 17,
      "outputs": [
        {
          "output_type": "execute_result",
          "data": {
            "text/plain": [
              "2"
            ]
          },
          "metadata": {},
          "execution_count": 17
        }
      ]
    },
    {
      "cell_type": "code",
      "source": [
        "round(3.14)"
      ],
      "metadata": {
        "colab": {
          "base_uri": "https://localhost:8080/"
        },
        "id": "cd1t4EE38XpO",
        "outputId": "489a2c63-b402-4d5b-f309-80ab15ed11f6"
      },
      "execution_count": 18,
      "outputs": [
        {
          "output_type": "execute_result",
          "data": {
            "text/plain": [
              "3"
            ]
          },
          "metadata": {},
          "execution_count": 18
        }
      ]
    }
  ]
}