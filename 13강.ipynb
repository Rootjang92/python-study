{
  "nbformat": 4,
  "nbformat_minor": 0,
  "metadata": {
    "colab": {
      "provenance": [],
      "authorship_tag": "ABX9TyNsXPZGdB4l/93YPKhg5Ftg",
      "include_colab_link": true
    },
    "kernelspec": {
      "name": "python3",
      "display_name": "Python 3"
    },
    "language_info": {
      "name": "python"
    }
  },
  "cells": [
    {
      "cell_type": "markdown",
      "metadata": {
        "id": "view-in-github",
        "colab_type": "text"
      },
      "source": [
        "<a href=\"https://colab.research.google.com/github/Rootjang92/python-study/blob/main/13%EA%B0%95.ipynb\" target=\"_parent\"><img src=\"https://colab.research.google.com/assets/colab-badge.svg\" alt=\"Open In Colab\"/></a>"
      ]
    },
    {
      "cell_type": "code",
      "execution_count": null,
      "metadata": {
        "id": "NCiJEAzMwILL"
      },
      "outputs": [],
      "source": [
        "\n",
        "class Tic_Tac_Toe:\n",
        "\n",
        "    # 게임판 생성\n",
        "    def __init__(self):\n",
        "\n",
        "    # 게임판 초기화\n",
        "    def create_board(self):\n",
        "    # 첫 플레이어 선택\n",
        "    def select_first_player(self):\n",
        "\n",
        "    # 기호 표시\n",
        "    def mark_spot(self, row, col):\n",
        "        \n",
        "    # 승리 상태 확인\n",
        "    def is_win(self, player):\n",
        "       # 행 확인\n",
        "       # 열 확인 \n",
        "       # 대각선 확인\n",
        "\n",
        "    # 잔여 빈칸 여부 확인\n",
        "    def is_board_full(self):\n",
        "\n",
        "    # 플레이어 변경\n",
        "    def next_player(self, player):\n",
        "\n",
        "    # 현재 게임판 상태 출력\n",
        "    def show_board(self):\n",
        "\n",
        "    # 게임 루프 시작\n",
        "    def start(self):\n",
        "        # 새 게임판 생성\n",
        "\n",
        "        # 첫 플레이어 선택\n",
        "\n",
        "        # 게임 루프 시작\n",
        "        while True:\n",
        "            # 다음 플레이어 안내\n",
        "\n",
        "            # 현재 게임판 상태 출력\n",
        "\n",
        "            # 사용자 입력 대기, 컴퓨터일 경우 랜덤 위치 반환\n",
        "\n",
        "            # row, col 입력값이 0, 0인 경우 게임 종료\n",
        "            \n",
        "            # 입력된 위치 표시\n",
        "\n",
        "            # 현재 플레이어가 이겼는지 확인 \n",
        "\n",
        "            # 게임판 가득참 확인\n",
        "\n",
        "            # 플레이어 변경\n",
        "\n",
        "        # 최종 게임판 출력\n",
        "\n",
        "\n",
        "# 게임 생성\n",
        "TTT = Tic_Tac_Toe()\n",
        "# 게임 시작\n",
        "TTT.start()"
      ]
    }
  ]
}