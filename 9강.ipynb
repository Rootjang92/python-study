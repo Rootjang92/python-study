{
  "nbformat": 4,
  "nbformat_minor": 0,
  "metadata": {
    "colab": {
      "provenance": [],
      "authorship_tag": "ABX9TyNzLP8FeNnt5xVbWPX/XOK1",
      "include_colab_link": true
    },
    "kernelspec": {
      "name": "python3",
      "display_name": "Python 3"
    },
    "language_info": {
      "name": "python"
    }
  },
  "cells": [
    {
      "cell_type": "markdown",
      "metadata": {
        "id": "view-in-github",
        "colab_type": "text"
      },
      "source": [
        "<a href=\"https://colab.research.google.com/github/Rootjang92/python-study/blob/main/9%EA%B0%95.ipynb\" target=\"_parent\"><img src=\"https://colab.research.google.com/assets/colab-badge.svg\" alt=\"Open In Colab\"/></a>"
      ]
    },
    {
      "cell_type": "code",
      "execution_count": 2,
      "metadata": {
        "colab": {
          "base_uri": "https://localhost:8080/"
        },
        "id": "Lr22lDAuZarj",
        "outputId": "8a35dbad-29ee-4fc9-b9bf-82fb68dd8b99"
      },
      "outputs": [
        {
          "output_type": "stream",
          "name": "stdout",
          "text": [
            "원뿔의 부피는 3139.9999999999995 입니다.\n"
          ]
        }
      ],
      "source": [
        "def print_cone_vol(rad, height):\n",
        "  if rad > 0 and height > 0 :\n",
        "    vol = 1/3 * 3.14 * rad ** 2 * height\n",
        "    print(\"원뿔의 부피는\", vol, \"입니다.\")\n",
        "  else :\n",
        "    print(\"반지름과 높이 값에 양수를 입력하세요.\")\n",
        "\n",
        "print_cone_vol(10, 30)"
      ]
    },
    {
      "cell_type": "code",
      "source": [],
      "metadata": {
        "id": "cYTPZ1P-d3Tv"
      },
      "execution_count": null,
      "outputs": []
    },
    {
      "cell_type": "code",
      "source": [
        "# 숫자를 입력받고 역순으로 출력하는 함수\n",
        "\n",
        "num = 1234\n",
        "\n",
        "def reverseNum(num) : \n",
        "  while num != 0 :\n",
        "    digit = num % 10\n",
        "    num = num // 10\n",
        "    print(digit, end=\"\")\n",
        "\n",
        "reverseNum(num)"
      ],
      "metadata": {
        "colab": {
          "base_uri": "https://localhost:8080/"
        },
        "id": "nhP4E25NbEkC",
        "outputId": "998ae2c3-f4c1-4519-c525-42f38bb36cc5"
      },
      "execution_count": 3,
      "outputs": [
        {
          "output_type": "stream",
          "name": "stdout",
          "text": [
            "4321"
          ]
        }
      ]
    },
    {
      "cell_type": "code",
      "source": [
        "def rtn_cone_vol(rad, height):\n",
        "  if rad > 0 and height > 0 :\n",
        "    vol = 1/3 * 3.14 * rad ** 2 * height\n",
        "    return vol\n",
        "  else :\n",
        "    print(\"반지름과 높이 값에 양수를 입력하세요.\")\n",
        "\n",
        "rtn_cone_vol(10, 30)"
      ],
      "metadata": {
        "colab": {
          "base_uri": "https://localhost:8080/"
        },
        "id": "ZvTwM75ud2Yc",
        "outputId": "d3904af7-c9ae-496a-9967-82a048973d18"
      },
      "execution_count": 4,
      "outputs": [
        {
          "output_type": "execute_result",
          "data": {
            "text/plain": [
              "3139.9999999999995"
            ]
          },
          "metadata": {},
          "execution_count": 4
        }
      ]
    },
    {
      "cell_type": "code",
      "source": [
        "# 가변 매개변수 -> 일반 매개변수 앞에 위치할 수 없음, 1개만 사용 가능\n",
        "\n",
        "def rtn_cone_vol(rad, height):\n",
        "  if rad > 0 and height > 0 :\n",
        "    vol = 1/3 * 3.14 * rad ** 2 * height\n",
        "    return vol\n",
        "  else :\n",
        "    print(\"반지름과 높이 값에 양수를 입력하세요.\")\n",
        "\n",
        "r = 50\n",
        "h = 100\n",
        "print(format(rtn_cone_vol(r, h), \">10.3f\"))\n",
        "print(\"함수사용 후\", r, h)"
      ],
      "metadata": {
        "colab": {
          "base_uri": "https://localhost:8080/"
        },
        "id": "Tf0uxCkKkM9S",
        "outputId": "25f1843e-e34d-4169-93b2-e86056c12eba"
      },
      "execution_count": 5,
      "outputs": [
        {
          "output_type": "stream",
          "name": "stdout",
          "text": [
            "261666.667\n",
            "함수사용 후 50 100\n"
          ]
        }
      ]
    },
    {
      "cell_type": "code",
      "source": [
        "#변수 스코프\n",
        "\n",
        "x = 1\n",
        "print(\"1\", x)\n",
        "\n",
        "# x의 스코프(함수 내부 변수의 스코프는 함수 내부에서만 가능)\n",
        "def increment(x):\n",
        "  x = x + 1\n",
        "  print(\"2\", x)\n",
        "\n",
        "increment(x)\n",
        "print(\"3\", x)"
      ],
      "metadata": {
        "colab": {
          "base_uri": "https://localhost:8080/"
        },
        "id": "SP5xwkCmlIEw",
        "outputId": "e5999aa5-7482-4dcd-c7b7-700892efa707"
      },
      "execution_count": 8,
      "outputs": [
        {
          "output_type": "stream",
          "name": "stdout",
          "text": [
            "1 1\n",
            "2 2\n",
            "3 1\n"
          ]
        }
      ]
    },
    {
      "cell_type": "code",
      "source": [
        "# 매개변수 기본값\n",
        "def prt_cone_vol_suft(r = 20, h = 30):\n",
        "  if r > 0 and h > 0:\n",
        "    vol = 1/3 * 3.14 * r ** 2 * h\n",
        "    suf = 3.14 * r ** 2 + 3.14 * r * h\n",
        "    return vol, suf\n",
        "  else : \n",
        "    print(\"다시 입력하세요.\")\n",
        "\n",
        "print(prt_cone_vol_suft(100,200))\n",
        "print(prt_cone_vol_suft())"
      ],
      "metadata": {
        "colab": {
          "base_uri": "https://localhost:8080/"
        },
        "id": "dSJ60NzQluxs",
        "outputId": "5304b67d-9d55-44b6-ab36-e44663b36775"
      },
      "execution_count": 10,
      "outputs": [
        {
          "output_type": "stream",
          "name": "stdout",
          "text": [
            "(2093333.3333333333, 94200.0)\n",
            "(12559.999999999998, 3140.0)\n"
          ]
        }
      ]
    },
    {
      "cell_type": "code",
      "source": [
        "# 여러개의 수를 입력받고 합과 평균을 반환하는 함수를 사용하여 (20,25,10,85,100,150)에 대한 합과 평균을 출력하라.\n",
        "\n",
        "def var_sum_avg(*num_list) :\n",
        "  sum = 0\n",
        "  count = 0\n",
        "  avg = 0\n",
        "\n",
        "  for i in num_list:\n",
        "    sum = sum + i\n",
        "    count = count + 1\n",
        "\n",
        "  avg = sum / count\n",
        "  return sum, avg\n",
        "\n",
        "print(var_sum_avg(20, 25, 10, 85, 100, 150))\n",
        "print(var_sum_avg(10, 20, 30, 40))"
      ],
      "metadata": {
        "colab": {
          "base_uri": "https://localhost:8080/"
        },
        "id": "UaWj2eG5mLlN",
        "outputId": "fcb64ee9-ece4-49d1-f229-59c157a3bb26"
      },
      "execution_count": 13,
      "outputs": [
        {
          "output_type": "stream",
          "name": "stdout",
          "text": [
            "(390, 65.0)\n",
            "(100, 25.0)\n"
          ]
        }
      ]
    }
  ]
}